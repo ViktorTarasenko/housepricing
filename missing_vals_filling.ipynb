{
 "cells": [
  {
   "cell_type": "code",
   "execution_count": 62,
   "metadata": {},
   "outputs": [],
   "source": [
    "import pandas as pd\n",
    "import seaborn as sns\n",
    "import numpy as np\n",
    "from sklearn import preprocessing\n",
    "from scipy import stats\n",
    "import inspect\n",
    "from numpy import median\n",
    "from scipy.stats import skew\n",
    "from scipy.stats import boxcox_normmax\n",
    "from scipy.special import boxcox1p\n",
    "from matplotlib import pyplot as plt"
   ]
  },
  {
   "cell_type": "code",
   "execution_count": 63,
   "metadata": {},
   "outputs": [],
   "source": [
    "pd.set_option('display.max_rows', 2000)\n",
    "pd.set_option('display.max_columns', 2000)\n"
   ]
  },
  {
   "cell_type": "code",
   "execution_count": 64,
   "metadata": {},
   "outputs": [],
   "source": [
    "train_data = pd.read_csv('train.csv')\n",
    "test_data = pd.read_csv('test.csv')"
   ]
  },
  {
   "cell_type": "code",
   "execution_count": 65,
   "metadata": {},
   "outputs": [],
   "source": [
    "sns.set(color_codes=True)\n",
    "x = np.random.normal(size=100,scale = 0.1)"
   ]
  },
  {
   "cell_type": "code",
   "execution_count": 66,
   "metadata": {},
   "outputs": [],
   "source": [
    "#train_data[train_data['GarageCond'].isnull()].iloc[:,55:70]"
   ]
  },
  {
   "cell_type": "code",
   "execution_count": 67,
   "metadata": {},
   "outputs": [],
   "source": [
    "test_data['BsmtQual'] = test_data['BsmtQual'].fillna(\"nan\")\n",
    "train_data['BsmtQual'] = train_data['BsmtQual'].fillna(\"nan\")\n",
    "test_data.loc[757,'BsmtQual'] = np.NaN\n",
    "test_data.loc[758,'BsmtQual'] = np.NaN\n",
    "\n"
   ]
  },
  {
   "cell_type": "code",
   "execution_count": 68,
   "metadata": {},
   "outputs": [],
   "source": [
    "train_data['BsmtCond'] = train_data['BsmtCond'].fillna(\"nan\")\n",
    "test_data['BsmtCond'] = test_data['BsmtCond'].fillna(\"nan\")\n",
    "test_data.loc[580,'BsmtCond'] = np.NaN\n",
    "test_data.loc[725,'BsmtCond'] = np.NaN\n",
    "test_data.loc[1064,'BsmtCond'] = np.NaN"
   ]
  },
  {
   "cell_type": "code",
   "execution_count": 69,
   "metadata": {},
   "outputs": [],
   "source": [
    "train_data['BsmtExposure'] = train_data['BsmtExposure'].fillna(\"nan\")\n",
    "test_data['BsmtExposure'] = test_data['BsmtExposure'].fillna(\"nan\")\n",
    "train_data.loc[948,'BsmtExposure'] = np.NaN\n",
    "test_data.loc[27,'BsmtExposure'] = np.NaN\n",
    "test_data.loc[888,'BsmtExposure'] = np.NaN"
   ]
  },
  {
   "cell_type": "code",
   "execution_count": 70,
   "metadata": {},
   "outputs": [],
   "source": [
    "train_data['BsmtFinType2'] = train_data['BsmtFinType2'].fillna(\"nan\")\n",
    "test_data['BsmtFinType2'] = test_data['BsmtFinType2'].fillna(\"nan\")\n",
    "train_data.loc[332,'BsmtFinType2'] = np.NaN"
   ]
  },
  {
   "cell_type": "code",
   "execution_count": 71,
   "metadata": {},
   "outputs": [],
   "source": [
    "test_data.loc[1116, 'GarageType'] = np.NaN\n",
    "test_data['GarageQual'] = test_data['GarageQual'].fillna(\"nan\")\n",
    "train_data['GarageQual'] = train_data['GarageQual'].fillna(\"nan\")\n",
    "\n",
    "test_data.loc[666, 'GarageQual'] = np.NaN\n"
   ]
  },
  {
   "cell_type": "code",
   "execution_count": 72,
   "metadata": {},
   "outputs": [],
   "source": [
    "train_data['GarageFinish'] = train_data['GarageFinish'].fillna(\"nan\")\n",
    "test_data['GarageFinish'] = test_data['GarageFinish'].fillna(\"nan\")\n",
    "test_data.loc[666, 'GarageFinish'] = np.NaN"
   ]
  },
  {
   "cell_type": "code",
   "execution_count": 73,
   "metadata": {},
   "outputs": [],
   "source": [
    "train_data['GarageCond'] = train_data['GarageCond'].fillna(\"nan\")\n",
    "test_data['GarageCond'] = test_data['GarageCond'].fillna(\"nan\")\n",
    "test_data.loc[666, 'GarageCond'] = np.NaN"
   ]
  },
  {
   "cell_type": "code",
   "execution_count": 74,
   "metadata": {},
   "outputs": [],
   "source": [
    "test_data.loc[1116, 'GarageArea'] = 0\n",
    "test_data.loc[1116, 'GarageCars'] = 0\n",
    "test_data.loc[660, 'BsmtFullBath'] = 0\n",
    "test_data.loc[728, 'BsmtFullBath'] = 0\n",
    "test_data.loc[660, 'BsmtHalfBath'] = 0\n",
    "test_data.loc[728, 'BsmtHalfBath'] = 0\n",
    "test_data.loc[660, 'TotalBsmtSF'] = 0\n",
    "test_data.loc[660, 'BsmtUnfSF'] = 0\n",
    "test_data.loc[660, 'BsmtFinSF1'] = 0\n",
    "test_data.loc[660, 'BsmtFinSF2'] = 0\n",
    "\n",
    "\n",
    "\n"
   ]
  },
  {
   "cell_type": "code",
   "execution_count": 75,
   "metadata": {},
   "outputs": [],
   "source": [
    "#todo! check different values\n",
    "train_data['GarageYrBlt'] = train_data['GarageYrBlt'].fillna(1899)\n",
    "test_data['GarageYrBlt'] = test_data['GarageYrBlt'].fillna(1899)\n",
    "test_data.loc[666,'GarageYrBlt'] = np.NaN"
   ]
  },
  {
   "cell_type": "code",
   "execution_count": 76,
   "metadata": {},
   "outputs": [],
   "source": [
    "#error incosistency in dataset\n",
    "#train_data.loc[624, 'MasVnrArea'] = np.nan\n",
    "#train_data.loc[773, 'MasVnrArea'] = np.nan\n",
    "#train_data.loc[1230, 'MasVnrArea'] = np.nan\n",
    "#train_data.loc[1300, 'MasVnrArea'] = np.nan\n",
    "#train_data.loc[1334, 'MasVnrArea'] = np.nan\n",
    "\n",
    "#test_data.loc[209, 'MasVnrType'] = np.nan\n",
    "#test_data.loc[992, 'MasVnrType'] = np.nan\n",
    "\n",
    "\n",
    "\n"
   ]
  },
  {
   "cell_type": "code",
   "execution_count": 77,
   "metadata": {},
   "outputs": [],
   "source": [
    "train_data.to_csv('train_imp.csv',index = False)\n",
    "test_data.to_csv('test_imp.csv',index = False)"
   ]
  },
  {
   "cell_type": "code",
   "execution_count": null,
   "metadata": {},
   "outputs": [],
   "source": []
  },
  {
   "cell_type": "code",
   "execution_count": null,
   "metadata": {},
   "outputs": [],
   "source": []
  },
  {
   "cell_type": "code",
   "execution_count": null,
   "metadata": {},
   "outputs": [],
   "source": []
  }
 ],
 "metadata": {
  "kernelspec": {
   "display_name": "Python 3",
   "language": "python",
   "name": "python3"
  },
  "language_info": {
   "codemirror_mode": {
    "name": "ipython",
    "version": 3
   },
   "file_extension": ".py",
   "mimetype": "text/x-python",
   "name": "python",
   "nbconvert_exporter": "python",
   "pygments_lexer": "ipython3",
   "version": "3.6.7"
  }
 },
 "nbformat": 4,
 "nbformat_minor": 4
}

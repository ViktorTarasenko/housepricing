{
 "cells": [
  {
   "cell_type": "code",
   "execution_count": null,
   "metadata": {},
   "outputs": [],
   "source": [
    "from ipynb.fs.full.feature_engineering_final import X_Transformer_scaled\n",
    "from ipynb.fs.full.feature_engineering_final import X_Transformer\n",
    "from ipynb.fs.full.feature_engineering_final import DataLoader\n",
    "from ipynb.fs.full.feature_engineering_final import TargetNormalizedRegressor\n",
    "from ipynb.fs.full.feature_engineering_final import BlendingRegressor\n",
    "from sklearn.linear_model import LassoCV\n",
    "from sklearn.linear_model import RidgeCV\n",
    "from sklearn.pipeline import Pipeline\n",
    "from xgboost import XGBRegressor\n",
    "from sklearn.ensemble import GradientBoostingRegressor\n",
    "from sklearn.linear_model import ElasticNetCV\n",
    "import xgboost as xgb\n",
    "import numpy as np\n",
    "import pandas as pd\n",
    "from xgboost import plot_tree\n",
    "from mlxtend.regressor import StackingCVRegressor\n",
    "import matplotlib.pyplot as plt\n",
    "%matplotlib inline\n",
    "from xgboost import plot_tree\n",
    "from matplotlib.pylab import rcParams\n",
    "from sklearn.model_selection import KFold\n",
    "from sklearn.svm import SVR"
   ]
  },
  {
   "cell_type": "code",
   "execution_count": null,
   "metadata": {},
   "outputs": [],
   "source": [
    "data_loader = DataLoader(\"train.csv\",\"test.csv\")"
   ]
  },
  {
   "cell_type": "code",
   "execution_count": null,
   "metadata": {},
   "outputs": [],
   "source": [
    "X_train = data_loader.getX_train()\n",
    "Y_train = data_loader.getY_train()\n",
    "X_test = data_loader.getX_test()"
   ]
  },
  {
   "cell_type": "code",
   "execution_count": null,
   "metadata": {},
   "outputs": [],
   "source": [
    "x_transformer = X_Transformer_scaled()"
   ]
  },
  {
   "cell_type": "code",
   "execution_count": null,
   "metadata": {},
   "outputs": [],
   "source": [
    "kf = KFold(n_splits=10,shuffle = True,random_state = 0)"
   ]
  },
  {
   "cell_type": "code",
   "execution_count": null,
   "metadata": {},
   "outputs": [],
   "source": [
    "xgb = XGBRegressor(objective='reg:squarederror',eval_metric = 'rmse',learning_rate=0.01,n_estimators=3460,\n",
    "                                     max_depth=3, min_child_weight=0,\n",
    "                                     gamma=0, subsample=0.7,\n",
    "                                     colsample_bytree=0.7,\n",
    "                                     nthread=-1,\n",
    "                                     scale_pos_weight=1, seed=27,\n",
    "                                     reg_alpha=0.00006)\n",
    "\n",
    "svr = SVR(kernel=\"rbf\",gamma=0.0003,C = 30,epsilon = 0.00008)\n",
    "\n",
    "ridge = RidgeCV(alphas=[14.6, 14.7, 14.8, 14.9, 15, 15.1, 15.2, 15.3, 15.4, 15.5])\n",
    "\n",
    "lasso = LassoCV(cv=10)\n",
    "\n",
    "elastic_net = ElasticNetCV(max_iter=1e7, alphas=[0.0001, 0.0002, 0.0003, 0.0004, 0.0005, 0.0006, 0.0007],\n",
    "                                        cv=kf, l1_ratio=[0.8, 0.85, 0.9, 0.95, 0.99, 1])\n",
    "\n",
    "gbr = GradientBoostingRegressor(n_estimators=3700, learning_rate=0.01,\n",
    "                                   max_depth=3, max_features='sqrt',\n",
    "                                   loss='huber', random_state =42,subsample = 0.7)\n",
    "\n",
    "\n",
    "scvr = StackingCVRegressor(regressors=(xgb,svr,ridge,lasso,elastic_net,gbr),\n",
    "                                meta_regressor=xgb,cv=10,\n",
    "                                use_features_in_secondary=True,\n",
    "                                  n_jobs = -1)\n",
    "\n",
    "blrgr = TargetNormalizedRegressor(BlendingRegressor(regressors_and_weights = [(scvr,0.333333333),(xgb,0.166666667),(svr,0.111111111),(ridge,0.111111111),(lasso,0.055555556),(elastic_net,0.111111111),(gbr,0.111111111)]))\n"
   ]
  },
  {
   "cell_type": "code",
   "execution_count": null,
   "metadata": {},
   "outputs": [],
   "source": [
    "learning_pipeline = Pipeline(steps=[('preprocess', x_transformer),('learn',blrgr)])\n",
    "learning_pipeline.fit(X_train,y=Y_train)\n",
    "\n",
    "\n",
    "\n"
   ]
  },
  {
   "cell_type": "code",
   "execution_count": null,
   "metadata": {},
   "outputs": [],
   "source": [
    "#set up the parameters\n",
    "#rcParams['figure.figsize'] = 100,90\n",
    "#plot_tree(learning_pipeline.named_steps['learn'],num_trees=2799, rankdir='LR')#plt.show()\n"
   ]
  },
  {
   "cell_type": "code",
   "execution_count": null,
   "metadata": {},
   "outputs": [],
   "source": [
    "Ypredicted = learning_pipeline.predict(X_test)"
   ]
  },
  {
   "cell_type": "code",
   "execution_count": null,
   "metadata": {},
   "outputs": [],
   "source": [
    "resultDf = pd.DataFrame()\n",
    "resultDf['Id'] = data_loader.get_Test_id()\n",
    "resultDf['SalePrice'] = np.floor(Ypredicted)\n",
    "\n",
    "#q1 = resultDf['SalePrice'].quantile(0.0045)\n",
    "#q2 = resultDf['SalePrice'].quantile(0.99)\n",
    "\n",
    "#resultDf['SalePrice'] = resultDf['SalePrice'].apply(lambda x: x if x > q1 else x*0.77)\n",
    "#resultDf['SalePrice'] = resultDf['SalePrice'].apply(lambda x: x if x < q2 else x*1.1)\n",
    "\n",
    "resultDf\n",
    "resultDf.to_csv('submission.csv',index = False)"
   ]
  },
  {
   "cell_type": "code",
   "execution_count": null,
   "metadata": {},
   "outputs": [],
   "source": []
  },
  {
   "cell_type": "code",
   "execution_count": null,
   "metadata": {},
   "outputs": [],
   "source": []
  },
  {
   "cell_type": "code",
   "execution_count": null,
   "metadata": {},
   "outputs": [],
   "source": []
  },
  {
   "cell_type": "code",
   "execution_count": null,
   "metadata": {},
   "outputs": [],
   "source": []
  },
  {
   "cell_type": "code",
   "execution_count": null,
   "metadata": {},
   "outputs": [],
   "source": []
  }
 ],
 "metadata": {
  "kernelspec": {
   "display_name": "Python 3",
   "language": "python",
   "name": "python3"
  },
  "language_info": {
   "codemirror_mode": {
    "name": "ipython",
    "version": 3
   },
   "file_extension": ".py",
   "mimetype": "text/x-python",
   "name": "python",
   "nbconvert_exporter": "python",
   "pygments_lexer": "ipython3",
   "version": "3.6.9"
  }
 },
 "nbformat": 4,
 "nbformat_minor": 2
}

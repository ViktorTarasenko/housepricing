{
 "cells": [
  {
   "cell_type": "code",
   "execution_count": null,
   "metadata": {},
   "outputs": [],
   "source": [
    "import pandas as pd\n",
    "import numpy as np\n",
    "from scipy.stats import skew\n",
    "from scipy.stats import boxcox_normmax\n",
    "from scipy.special import boxcox1p"
   ]
  },
  {
   "cell_type": "code",
   "execution_count": null,
   "metadata": {},
   "outputs": [],
   "source": [
    "def cats_by_distribution_col(df,x_col,y_col):\n",
    "    return df.groupby([x_col])[x_col,y_col].aggregate(np.median).reset_index().sort_values(y_col)[x_col].values.tolist()\n",
    "def cats_by_distribution(df,x_cols,y_col):\n",
    "    return [cats_by_distribution_col(df,x_col,y_col) for x_col in x_cols]"
   ]
  },
  {
   "cell_type": "code",
   "execution_count": null,
   "metadata": {},
   "outputs": [],
   "source": [
    "drop1 = ['Street','LotShape','LandContour',\n",
    "            'LotConfig','LandSlope','Neighborhood',\n",
    "            'Condition1','Condition2','BldgType','HouseStyle',\n",
    "            'RoofStyle','RoofMatl',\n",
    "            'ExterQual','ExterCond','Foundation','Heating','HeatingQC',\n",
    "            'CentralAir',\n",
    "            'PavedDrive','SaleCondition']\n",
    "drop2 = ['Alley','BsmtCond','BsmtQual','BsmtExposure','BsmtFinType1',\n",
    "                                           'BsmtFinType2','FireplaceQu','GarageType','GarageQual','GarageFinish',\n",
    "                                           'GarageCond','PoolQC','Fence','MiscFeature']\n",
    "drop3 = ['SaleType','Functional','KitchenQual','Exterior1st','Exterior2nd','MSZoning','MasVnrType','Electrical']\n",
    "class DataLoader():\n",
    "    def __init__(self,path):\n",
    "        self.df = pd.read_csv(path)\n",
    "        outliers = [30, 88, 462, 631, 1322]\n",
    "        self.df = self.df.drop(self.df.index[outliers])\n",
    "        self.X = self.df.drop(['Id','SalePrice','Utilities', 'Street', 'PoolQC','Alley'], axis = 1)\n",
    "        #self.X['LotFrontage'] = self.X.groupby('Neighborhood')['LotFrontage'].transform(lambda x: x.fillna(x.median()))\n",
    "        self.Y = self.df['SalePrice']\n",
    "    def getX(self):\n",
    "        return self.X\n",
    "    def getY(self):\n",
    "        return self.Y"
   ]
  },
  {
   "cell_type": "code",
   "execution_count": null,
   "metadata": {},
   "outputs": [],
   "source": [
    "train_data = pd.read_csv('train.csv')"
   ]
  },
  {
   "cell_type": "code",
   "execution_count": null,
   "metadata": {},
   "outputs": [],
   "source": [
    "import pandas as pd\n",
    "from sklearn.compose import ColumnTransformer\n",
    "from sklearn.preprocessing import OneHotEncoder\n",
    "from sklearn.pipeline import Pipeline\n",
    "from sklearn.preprocessing import OrdinalEncoder\n",
    "import numpy as np\n",
    "from sklearn.impute import SimpleImputer\n",
    "class PipelineWithFeatureNames(Pipeline):\n",
    "    def __init__(self, steps, memory=None, verbose=False, feature_names = None):\n",
    "        Pipeline.__init__(self, steps, memory,verbose)\n",
    "        self.feature_names = feature_names\n",
    "    def get_feature_names(self):\n",
    "        return self.steps[-1][-1].get_feature_names(input_features = self.feature_names)\n",
    "class SimpleImputerWithFeatureNames(SimpleImputer):\n",
    "    def __init__(self, missing_values=np.nan, strategy=\"mean\", fill_value=None, verbose=0, copy=True, add_indicator=False, feature_names = None):\n",
    "        SimpleImputer.__init__(self, missing_values,strategy,fill_value,verbose,copy,add_indicator)\n",
    "        self.feature_names = feature_names\n",
    "    def get_feature_names(self):\n",
    "        return self.feature_names\n",
    "categorial_features = ['LotShape','LandContour',\n",
    "            'LotConfig','LandSlope','Neighborhood',\n",
    "            'Condition1','Condition2','BldgType','HouseStyle',\n",
    "            'RoofStyle','RoofMatl',\n",
    "            'ExterQual','ExterCond','Foundation','Heating','HeatingQC',\n",
    "            'CentralAir',\n",
    "            'PavedDrive','SaleCondition']\n",
    "categorial_features_ordinal = ['Neighborhood']\n",
    "\n",
    "\n",
    "categorial_features_ordinal_with_missing_values_impute = []\n",
    "\n",
    "nbhd_cats = ['MeadowV','IDOTRR','BrDale','OldTown','Edwards',\n",
    "               'BrkSide','Sawyer','Blueste','SWISU','NAmes','NPkVill','Mitchel','SawyerW','Gilbert','NWAmes',\n",
    "               'Blmngtn','CollgCr','ClearCr','Crawfor','Veenker','Somerst','Timber','StoneBr','NoRidge','NridgHt']\n",
    "mssubclass_cats = ['180','30','45','190','50','90','85','40','160','150','70','20','75','80','120','60']\n",
    "\n",
    "categorial_features_with_missing_values_const = ['BsmtCond','BsmtQual','BsmtExposure','BsmtFinType1',\n",
    "                                           'BsmtFinType2','FireplaceQu','GarageType','GarageQual','GarageFinish',\n",
    "                                           'GarageCond','Fence','MiscFeature']\n",
    "categorial_features_with_missing_values_impute = ['SaleType','Functional','KitchenQual','Exterior1st','Exterior2nd','MSZoning','MasVnrType','Electrical']\n",
    "numeric_columns_impute = ['GarageArea','GarageCars','BsmtHalfBath','BsmtFullBath','TotalBsmtSF','BsmtUnfSF','BsmtFinSF1','BsmtFinSF2','MasVnrArea','GarageYrBlt']\n",
    "#numeric_columns_impute = []\n",
    "categorical_with_missing_values_pipeline_const = lambda: PipelineWithFeatureNames(steps=[\n",
    "    ('imputer', SimpleImputer(strategy='constant', fill_value=\"Nan\")),\n",
    "    ('onehot', OneHotEncoder(sparse=False,dtype=int,categories = 'auto'))], feature_names = categorial_features_with_missing_values_const)\n",
    "#for now let it be most frequent- median is not supported for numeric but seems same as frequent, but further maybe use advanced imputer that uses ml\n",
    "categorical_with_missing_values_pipeline_impute = lambda: PipelineWithFeatureNames(steps=[\n",
    "    ('imputer', SimpleImputer(strategy='most_frequent')),\n",
    "    ('onehot', OneHotEncoder(sparse=False,dtype=int,categories = 'auto'))], feature_names = categorial_features_with_missing_values_impute)\n",
    "\n",
    "categorical_ordinal_with_missing_values_pipeline_impute = lambda: PipelineWithFeatureNames(steps=[\n",
    "('imputer', SimpleImputer(strategy='most_frequent')),\n",
    "('ordinal', OrdinalEncoder(dtype=int,categories = cats_by_distribution(train_data,categorial_features_ordinal_with_missing_values_impute,'SalePrice')))], feature_names = categorial_features_ordinal_with_missing_values_impute)\n",
    "\n",
    "categorical_pipeline = lambda: PipelineWithFeatureNames(steps=[\n",
    "    ('onehot', OneHotEncoder(sparse=False,dtype=int,categories = 'auto'))], feature_names = categorial_features)\n",
    "X_Transformer = lambda : ColumnTransformer(transformers = [\n",
    "    ('categorical_with_missing_values_const', categorical_with_missing_values_pipeline_const(),categorial_features_with_missing_values_const),\n",
    "    ('categorical_with_missing_values_impute', categorical_with_missing_values_pipeline_impute(),categorial_features_with_missing_values_impute),\n",
    "    ('categorical',categorical_pipeline(),categorial_features),\n",
    "    ('numeric_with_missing_values_impute',SimpleImputerWithFeatureNames(strategy='median',feature_names = numeric_columns_impute),numeric_columns_impute)],remainder = \"passthrough\")"
   ]
  },
  {
   "cell_type": "code",
   "execution_count": null,
   "metadata": {},
   "outputs": [],
   "source": []
  },
  {
   "cell_type": "code",
   "execution_count": null,
   "metadata": {},
   "outputs": [],
   "source": []
  },
  {
   "cell_type": "code",
   "execution_count": null,
   "metadata": {},
   "outputs": [],
   "source": []
  },
  {
   "cell_type": "code",
   "execution_count": null,
   "metadata": {},
   "outputs": [],
   "source": []
  }
 ],
 "metadata": {
  "kernelspec": {
   "display_name": "Python 3",
   "language": "python",
   "name": "python3"
  },
  "language_info": {
   "codemirror_mode": {
    "name": "ipython",
    "version": 3
   },
   "file_extension": ".py",
   "mimetype": "text/x-python",
   "name": "python",
   "nbconvert_exporter": "python",
   "pygments_lexer": "ipython3",
   "version": "3.6.9"
  }
 },
 "nbformat": 4,
 "nbformat_minor": 2
}

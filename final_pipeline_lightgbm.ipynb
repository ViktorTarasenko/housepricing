{
 "cells": [
  {
   "cell_type": "code",
   "execution_count": 1,
   "metadata": {},
   "outputs": [],
   "source": [
    "from ipynb.fs.full.feature_engineering_catboost import X_Transformer\n",
    "from ipynb.fs.full.feature_engineering_catboost import X_Transformer\n",
    "from ipynb.fs.full.feature_engineering_catboost import DataLoader\n",
    "from ipynb.fs.full.feature_engineering_catboost import TargetNormalizedRegressor\n",
    "from lightgbm import LGBMRegressor\n",
    "from ipynb.fs.full.feature_engineering_final import BlendingRegressor\n",
    "from sklearn.linear_model import LassoCV\n",
    "from sklearn.linear_model import RidgeCV\n",
    "from sklearn.pipeline import Pipeline\n",
    "from xgboost import XGBRegressor\n",
    "from sklearn.ensemble import GradientBoostingRegressor\n",
    "from sklearn.linear_model import ElasticNetCV\n",
    "import xgboost as xgb\n",
    "import numpy as np\n",
    "import pandas as pd\n",
    "from xgboost import plot_tree\n",
    "from xgboost import plot_importance\n",
    "from mlxtend.regressor import StackingCVRegressor\n",
    "import matplotlib.pyplot as plt\n",
    "%matplotlib inline\n",
    "from xgboost import plot_tree\n",
    "from matplotlib.pylab import rcParams\n",
    "from sklearn.model_selection import KFold\n",
    "from sklearn.svm import SVR"
   ]
  },
  {
   "cell_type": "code",
   "execution_count": 2,
   "metadata": {},
   "outputs": [
    {
     "name": "stderr",
     "output_type": "stream",
     "text": [
      "/home/victor/anaconda3/lib/python3.6/site-packages/scipy/stats/stats.py:3508: PearsonRConstantInputWarning: An input array is constant; the correlation coefficent is not defined.\n",
      "  warnings.warn(PearsonRConstantInputWarning())\n",
      "/home/victor/anaconda3/lib/python3.6/site-packages/scipy/stats/stats.py:3538: PearsonRNearConstantInputWarning: An input array is nearly constant; the computed correlation coefficent may be inaccurate.\n",
      "  warnings.warn(PearsonRNearConstantInputWarning())\n"
     ]
    }
   ],
   "source": [
    "data_loader = DataLoader(\"train.csv\",\"test.csv\")"
   ]
  },
  {
   "cell_type": "code",
   "execution_count": 3,
   "metadata": {},
   "outputs": [],
   "source": [
    "X_train = data_loader.getX_train()\n",
    "Y_train = data_loader.getY_train()\n",
    "X_test = data_loader.getX_test()"
   ]
  },
  {
   "cell_type": "code",
   "execution_count": 4,
   "metadata": {},
   "outputs": [
    {
     "name": "stderr",
     "output_type": "stream",
     "text": [
      "/home/victor/anaconda3/lib/python3.6/site-packages/sklearn/base.py:197: FutureWarning: From version 0.24, get_params will raise an AttributeError if a parameter cannot be retrieved as an instance attribute. Previously it would return None.\n",
      "  FutureWarning)\n"
     ]
    }
   ],
   "source": [
    "x_transformer = X_Transformer()"
   ]
  },
  {
   "cell_type": "code",
   "execution_count": 5,
   "metadata": {},
   "outputs": [],
   "source": [
    "kf = KFold(n_splits=10,shuffle = True,random_state = 20)"
   ]
  },
  {
   "cell_type": "code",
   "execution_count": 6,
   "metadata": {},
   "outputs": [],
   "source": [
    "xgb = XGBRegressor(objective='reg:squarederror',eval_metric = 'rmse',learning_rate=0.01,n_estimators=3000,\n",
    "                                     max_depth=4, min_child_weight=0,\n",
    "                                     gamma=0, subsample=0.7,\n",
    "                                     colsample_bynode=0.14,\n",
    "                                     nthread=-1,\n",
    "                                     scale_pos_weight=1, seed=330,\n",
    "                                     reg_alpha=0.00006)\n",
    "xgb_t = TargetNormalizedRegressor(xgb)\n",
    "\n",
    "svr = SVR(kernel=\"rbf\",gamma=0.0003,C = 14,epsilon = 0.00008)\n",
    "\n",
    "svr_t = TargetNormalizedRegressor(svr)\n",
    "\n",
    "ridge = RidgeCV(cv=10)\n",
    "\n",
    "ridge_t = TargetNormalizedRegressor(ridge)\n",
    "\n",
    "lasso = LassoCV(cv=10)\n",
    "lasso_t = TargetNormalizedRegressor(lasso)\n",
    "\n",
    "elastic_net = ElasticNetCV(max_iter=1e7, alphas=[0.0001, 0.0002, 0.0003, 0.0004, 0.0005, 0.0006, 0.0007],\n",
    "                                        cv=kf, l1_ratio=[0.8, 0.85, 0.9, 0.95, 0.99, 1])\n",
    "elastic_net_t = TargetNormalizedRegressor(elastic_net)\n",
    "\n",
    "gbr = GradientBoostingRegressor(n_estimators=5950, learning_rate=0.01,\n",
    "                                   max_depth=4, max_features='sqrt',\n",
    "                                   loss='huber', random_state =42,subsample = 0.7)\n",
    "\n",
    "gbr_t = TargetNormalizedRegressor(gbr)\n",
    "\n",
    "\n",
    "scvr = StackingCVRegressor(regressors=(xgb,svr,ridge,lasso,elastic_net,gbr),\n",
    "                                meta_regressor=ridge,cv=15,\n",
    "                                use_features_in_secondary=True,\n",
    "                                  n_jobs = -1)\n",
    "scvr_t = TargetNormalizedRegressor(scvr)\n",
    "\n",
    "lightgbm = LGBMRegressor(objective='regression', \n",
    "                                       max_depth=4,\n",
    "                                       learning_rate=0.01, \n",
    "                                       n_estimators=2000,\n",
    "                                       max_bin=200, \n",
    "                                       bagging_fraction=0.85,\n",
    "                                       bagging_freq=5, \n",
    "                                       bagging_seed=7,\n",
    "                                       feature_fraction=0.3,\n",
    "                                       feature_fraction_seed=7,\n",
    "                                       verbose=-1,\n",
    "                                       categorical_feature = \"auto\",\n",
    "                                       max_cat_to_onehot = 4,\n",
    "                                       min_data_per_group = 24,  \n",
    "                                       cat_l2 = 0                               \n",
    "                                       )\n",
    "\n",
    "\n",
    "lightgbm_t = TargetNormalizedRegressor(lightgbm)\n",
    "\n",
    "#blrgr = TargetNormalizedRegressor(BlendingRegressor(regressors_and_weights = [(xgb,0.139342855),(svr,0.140628783),(ridge,0.143950385),(lasso,0.1430492),(elastic_net,0.144500587),(gbr,0.141916906)]))\n",
    "#blrgr = BlendingRegressor(regressors_and_weights = [(svr_t,0.5)])\n"
   ]
  },
  {
   "cell_type": "code",
   "execution_count": 7,
   "metadata": {},
   "outputs": [
    {
     "name": "stderr",
     "output_type": "stream",
     "text": [
      "/home/victor/anaconda3/lib/python3.6/site-packages/sklearn/base.py:197: FutureWarning: From version 0.24, get_params will raise an AttributeError if a parameter cannot be retrieved as an instance attribute. Previously it would return None.\n",
      "  FutureWarning)\n",
      "/home/victor/anaconda3/lib/python3.6/site-packages/lightgbm/basic.py:842: UserWarning: categorical_feature keyword has been found in `params` and will be ignored.\n",
      "Please use categorical_feature argument of the Dataset constructor to pass this parameter.\n",
      "  .format(key))\n",
      "/home/victor/anaconda3/lib/python3.6/site-packages/lightgbm/basic.py:863: UserWarning: categorical_feature in param dict is overridden.\n",
      "  warnings.warn('{} in param dict is overridden.'.format(cat_alias))\n"
     ]
    },
    {
     "data": {
      "text/plain": [
       "Pipeline(memory=None,\n",
       "         steps=[('preprocess',\n",
       "                 Pipeline(memory=None,\n",
       "                          steps=[('col_drop',\n",
       "                                  ColumnDrop(columns=['Utilities', 'Street',\n",
       "                                                      'PoolQC'])),\n",
       "                                 ('col_transformer',\n",
       "                                  DfColumnTransformer(n_jobs=None,\n",
       "                                                      remainder='drop',\n",
       "                                                      sparse_threshold=0.3,\n",
       "                                                      transformer_weights=None,\n",
       "                                                      transformers=[('categorical_with_missing_values_const',\n",
       "                                                                     PipelineWithFeatureNames(feature_names=['Alley...\n",
       "                                                                   learning_rate=0.01,\n",
       "                                                                   max_bin=200,\n",
       "                                                                   max_cat_to_onehot=4,\n",
       "                                                                   max_depth=4,\n",
       "                                                                   min_child_samples=20,\n",
       "                                                                   min_child_weight=0.001,\n",
       "                                                                   min_data_per_group=24,\n",
       "                                                                   min_split_gain=0.0,\n",
       "                                                                   n_estimators=2000,\n",
       "                                                                   n_jobs=-1,\n",
       "                                                                   num_leaves=31,\n",
       "                                                                   objective='regression',\n",
       "                                                                   random_state=None,\n",
       "                                                                   reg_alpha=0.0,\n",
       "                                                                   reg_lambda=0.0,\n",
       "                                                                   silent=True,\n",
       "                                                                   subsample=1.0,\n",
       "                                                                   subsample_for_bin=200000,\n",
       "                                                                   subsample_freq=0, ...)))],\n",
       "         verbose=False)"
      ]
     },
     "execution_count": 7,
     "metadata": {},
     "output_type": "execute_result"
    }
   ],
   "source": [
    "learning_pipeline = Pipeline(steps=[('preprocess', x_transformer),('learn',lightgbm_t)])\n",
    "learning_pipeline.fit(X_train,y=Y_train)\n",
    "\n",
    "\n",
    "\n"
   ]
  },
  {
   "cell_type": "code",
   "execution_count": 8,
   "metadata": {},
   "outputs": [],
   "source": [
    "\n",
    "Ypredicted = learning_pipeline.predict(X_test)\n",
    "#Ypredicted =   #pd.read_csv('submission_stack_elasticnet.csv').iloc[:,1]\n",
    "#Ypredicted = pd.read_csv('submission_stack_ridge.csv').iloc[:,1]*0.5 + pd.read_csv('submission_stack_elasticnet.csv').iloc[:,1]*0.5"
   ]
  },
  {
   "cell_type": "code",
   "execution_count": 9,
   "metadata": {},
   "outputs": [],
   "source": [
    "resultDf = pd.DataFrame()\n",
    "resultDf['Id'] = data_loader.get_Test_id()\n",
    "resultDf['SalePrice'] = Ypredicted\n",
    "\n",
    "#q1 = resultDf['SalePrice'].quantile(0.0045)\n",
    "#q2 = resultDf['SalePrice'].quantile(0.99)\n",
    "#resultDf[resultDf['SalePrice'] <= q1]\n",
    "#resultDf[resultDf['SalePrice'] <= q1]\n",
    "\n",
    "#resultDf['SalePrice'] = resultDf['SalePrice'].apply(lambda x: x if x > q1 else x*0.9)\n",
    "#resultDf['SalePrice'] = resultDf['SalePrice'].apply(lambda x: x if x < q2 else x*1.081)\n",
    "\n",
    "#resultDf\n",
    "resultDf.to_csv('submission_lgbm_new.csv',index = False)"
   ]
  },
  {
   "cell_type": "code",
   "execution_count": null,
   "metadata": {},
   "outputs": [],
   "source": []
  },
  {
   "cell_type": "code",
   "execution_count": null,
   "metadata": {},
   "outputs": [],
   "source": []
  },
  {
   "cell_type": "code",
   "execution_count": null,
   "metadata": {},
   "outputs": [],
   "source": []
  },
  {
   "cell_type": "code",
   "execution_count": null,
   "metadata": {},
   "outputs": [],
   "source": []
  }
 ],
 "metadata": {
  "kernelspec": {
   "display_name": "Python 3",
   "language": "python",
   "name": "python3"
  },
  "language_info": {
   "codemirror_mode": {
    "name": "ipython",
    "version": 3
   },
   "file_extension": ".py",
   "mimetype": "text/x-python",
   "name": "python",
   "nbconvert_exporter": "python",
   "pygments_lexer": "ipython3",
   "version": "3.6.7"
  }
 },
 "nbformat": 4,
 "nbformat_minor": 2
}
